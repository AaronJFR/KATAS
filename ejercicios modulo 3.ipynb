{
 "cells": [
  {
   "cell_type": "code",
   "execution_count": 14,
   "metadata": {},
   "outputs": [
    {
     "name": "stdout",
     "output_type": "stream",
     "text": [
      "!ALERTA! se acerca un asteroide a una velocidad peligrosa a la tierra\n"
     ]
    }
   ],
   "source": [
    "# Añadir el código necesario para crear una variable que guarde la velocidad del asteroide.\n",
    "# Escribe una expresión de prueba para calcular si necesita una advertencia.\n",
    "# Agregue las instrucciones que se ejecutarán si la expresión de prueba es true o false.\n",
    "\n",
    "asteroide = 49\n",
    "if asteroide > 25:\n",
    "    print('!ALERTA! se acerca un asteroide a una velocidad peligrosa a la tierra')\n",
    "else:\n",
    "    print('No se preocupe, continue con lo que estaba')\n",
    "\n"
   ]
  },
  {
   "cell_type": "code",
   "execution_count": 21,
   "metadata": {},
   "outputs": [
    {
     "name": "stdout",
     "output_type": "stream",
     "text": [
      "No hay nada que ver\n"
     ]
    }
   ],
   "source": [
    "# Agrega el código para crear una variable para un asteroide que viaja a 19 km/s\n",
    "# Escribe varias expresiones de prueba para determinar si puedes ver el rayo de luz desde la tierra\n",
    "# Agrega las instrucciones que se ejecutarán si las expresiones de prueba son True o False\n",
    "\n",
    "asteroide = 19\n",
    "if asteroide > 20:\n",
    "   print ('¡Mira el cielo! ¡Hay una luz hermosa!')\n",
    "elif asteroide == 20:\n",
    "   print ('¡Mira el cielo! ¡Hay una luz hermosa!')\n",
    "else:\n",
    "   print ('No hay nada que ver')"
   ]
  },
  {
   "cell_type": "code",
   "execution_count": 39,
   "metadata": {},
   "outputs": [
    {
     "name": "stdout",
     "output_type": "stream",
     "text": [
      "¡Alerta! se acerca un asteroide a una velocidad peligrosa a la tierra\n"
     ]
    }
   ],
   "source": [
    "# Agrega el código para crear nuevas variables para la velocidad y el tamaño del asteroide\n",
    "# Para probar el código, prueba con varias velocidades y tamaños\n",
    "# Escribe varias expresiones de prueba o combinaciones de expresiones de prueba para determinar qué mensaje se debe enviar a Tierra.\n",
    "\n",
    "velocidad_asteroide = 26\n",
    "tamano_asteroide = 26\n",
    "if velocidad_asteroide > 25 and tamano_asteroide > 25:\n",
    "    print('¡Alerta! se acerca un asteroide a una velocidad peligrosa a la tierra')\n",
    "elif velocidad_asteroide >= 20:\n",
    "    print('¡Mira el cielo! ¡Hay una luz hermosa!')\n",
    "elif tamano_asteroide < 25:\n",
    "    print('Nada hay que ver')\n",
    "else:\n",
    "    print('Nada hay nada que ver')"
   ]
  }
 ],
 "metadata": {
  "interpreter": {
   "hash": "389750717100ea999e01dd1e2b36f2e52363f3b0dc8f6b7535442f1c695d4605"
  },
  "kernelspec": {
   "display_name": "Python 3.10.2 64-bit",
   "language": "python",
   "name": "python3"
  },
  "language_info": {
   "codemirror_mode": {
    "name": "ipython",
    "version": 3
   },
   "file_extension": ".py",
   "mimetype": "text/x-python",
   "name": "python",
   "nbconvert_exporter": "python",
   "pygments_lexer": "ipython3",
   "version": "3.10.2"
  },
  "orig_nbformat": 4
 },
 "nbformat": 4,
 "nbformat_minor": 2
}
